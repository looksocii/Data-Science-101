{
 "cells": [
  {
   "cell_type": "code",
   "execution_count": 1,
   "id": "0479da52-cc95-48a3-8c4b-dbd16058257b",
   "metadata": {},
   "outputs": [],
   "source": [
    "# Import Numpy Library\n",
    "import numpy as np"
   ]
  },
  {
   "cell_type": "code",
   "execution_count": 2,
   "id": "dbedcc9e-8067-4340-b98d-7737fbbeae8b",
   "metadata": {},
   "outputs": [],
   "source": [
    "# create numpy array\n",
    "a = np.array([1, 2, 3, 4, 5])"
   ]
  },
  {
   "cell_type": "code",
   "execution_count": 3,
   "id": "af2f0833-91eb-41c5-8be8-86aacf27097b",
   "metadata": {},
   "outputs": [
    {
     "name": "stdout",
     "output_type": "stream",
     "text": [
      "[1 2 3 4 5]\n"
     ]
    }
   ],
   "source": [
    "print(a)"
   ]
  },
  {
   "cell_type": "code",
   "execution_count": 4,
   "id": "b2983e79-2494-4abb-889e-7b8ee7c02574",
   "metadata": {},
   "outputs": [],
   "source": [
    "b = np.array([[1, 2, 3], [4, 5, 6]])"
   ]
  },
  {
   "cell_type": "code",
   "execution_count": 5,
   "id": "ca6913f9-88c7-4b6e-aa2b-b081f580db02",
   "metadata": {},
   "outputs": [
    {
     "name": "stdout",
     "output_type": "stream",
     "text": [
      "[[1 2 3]\n",
      " [4 5 6]]\n"
     ]
    }
   ],
   "source": [
    "print(b)"
   ]
  },
  {
   "cell_type": "code",
   "execution_count": 6,
   "id": "23ad837f-456f-4338-a687-ead0c890e275",
   "metadata": {},
   "outputs": [
    {
     "data": {
      "text/plain": [
       "array([[1., 1., 1., 1.],\n",
       "       [1., 1., 1., 1.],\n",
       "       [1., 1., 1., 1.]])"
      ]
     },
     "execution_count": 6,
     "metadata": {},
     "output_type": "execute_result"
    }
   ],
   "source": [
    "# create ones, zeros ndarray\n",
    "ones = np.ones((3, 4))\n",
    "ones"
   ]
  },
  {
   "cell_type": "code",
   "execution_count": 7,
   "id": "a7de99f9-d9d6-4612-9542-f806f7b4b839",
   "metadata": {},
   "outputs": [
    {
     "data": {
      "text/plain": [
       "array([[0., 0., 0.],\n",
       "       [0., 0., 0.]])"
      ]
     },
     "execution_count": 7,
     "metadata": {},
     "output_type": "execute_result"
    }
   ],
   "source": [
    "zeros = np.zeros((2, 3))\n",
    "zeros"
   ]
  },
  {
   "cell_type": "code",
   "execution_count": 8,
   "id": "b4714e45-c439-4840-8926-a1ec88de45db",
   "metadata": {},
   "outputs": [
    {
     "data": {
      "text/plain": [
       "array([[1, 1, 1, 1],\n",
       "       [1, 1, 1, 1],\n",
       "       [1, 1, 1, 1],\n",
       "       [1, 1, 1, 1]])"
      ]
     },
     "execution_count": 8,
     "metadata": {},
     "output_type": "execute_result"
    }
   ],
   "source": [
    "ones_int = np.ones((4, 4), dtype=int)\n",
    "ones_int"
   ]
  },
  {
   "cell_type": "code",
   "execution_count": 9,
   "id": "bdfea4ab-51b8-48c4-9f71-dd6598c9408f",
   "metadata": {},
   "outputs": [
    {
     "data": {
      "text/plain": [
       "array([[13, 13, 13],\n",
       "       [13, 13, 13],\n",
       "       [13, 13, 13]])"
      ]
     },
     "execution_count": 9,
     "metadata": {},
     "output_type": "execute_result"
    }
   ],
   "source": [
    "# create full ndarray\n",
    "full = np.full((3, 3), 13.0, dtype=int)\n",
    "full"
   ]
  },
  {
   "cell_type": "code",
   "execution_count": 10,
   "id": "1e876127-9519-4718-9703-6aeded4ed478",
   "metadata": {},
   "outputs": [
    {
     "data": {
      "text/plain": [
       "array([1, 2, 3, 4, 5, 6, 7, 8, 9])"
      ]
     },
     "execution_count": 10,
     "metadata": {},
     "output_type": "execute_result"
    }
   ],
   "source": [
    "# create arange ndarray\n",
    "c = np.arange(1, 10, dtype=int)\n",
    "c"
   ]
  },
  {
   "cell_type": "code",
   "execution_count": 11,
   "id": "2ccffa51-d063-4c8f-83fe-bf09c48919ae",
   "metadata": {},
   "outputs": [
    {
     "data": {
      "text/plain": [
       "array([1, 3, 5, 7, 9])"
      ]
     },
     "execution_count": 11,
     "metadata": {},
     "output_type": "execute_result"
    }
   ],
   "source": [
    "d = np.arange(1, 10, 2, dtype=int)\n",
    "d"
   ]
  },
  {
   "cell_type": "code",
   "execution_count": 12,
   "id": "8ff3ab31-0afc-4a83-a45e-e11197cf0726",
   "metadata": {},
   "outputs": [
    {
     "data": {
      "text/plain": [
       "array([100,  95,  90,  85,  80,  75,  70,  65,  60,  55,  50,  45,  40,\n",
       "        35,  30,  25,  20,  15,  10,   5])"
      ]
     },
     "execution_count": 12,
     "metadata": {},
     "output_type": "execute_result"
    }
   ],
   "source": [
    "e = np.arange(100, 0, -5, dtype=int)\n",
    "e"
   ]
  },
  {
   "cell_type": "code",
   "execution_count": 13,
   "id": "8594d88c-24ec-456d-93ef-d493302b81c2",
   "metadata": {},
   "outputs": [
    {
     "data": {
      "text/plain": [
       "array([ 0,  2,  4,  6,  8, 10, 12, 14, 16, 18, 20, 22, 24, 26, 28, 30, 32,\n",
       "       34, 36, 38, 40, 42, 44, 46, 48, 50, 52, 54, 56, 58, 60, 62, 64, 66,\n",
       "       68, 70, 72, 74, 76, 78, 80, 82, 84, 86, 88, 90, 92, 94, 96, 98])"
      ]
     },
     "execution_count": 13,
     "metadata": {},
     "output_type": "execute_result"
    }
   ],
   "source": [
    "f = np.arange(0, 100, 2, dtype=int)\n",
    "f"
   ]
  },
  {
   "cell_type": "code",
   "execution_count": 14,
   "id": "93b89de1-f9ef-4f29-a35f-dfd9e26ecaa6",
   "metadata": {},
   "outputs": [
    {
     "data": {
      "text/plain": [
       "array([1.        , 1.06122449, 1.12244898, 1.18367347, 1.24489796,\n",
       "       1.30612245, 1.36734694, 1.42857143, 1.48979592, 1.55102041,\n",
       "       1.6122449 , 1.67346939, 1.73469388, 1.79591837, 1.85714286,\n",
       "       1.91836735, 1.97959184, 2.04081633, 2.10204082, 2.16326531,\n",
       "       2.2244898 , 2.28571429, 2.34693878, 2.40816327, 2.46938776,\n",
       "       2.53061224, 2.59183673, 2.65306122, 2.71428571, 2.7755102 ,\n",
       "       2.83673469, 2.89795918, 2.95918367, 3.02040816, 3.08163265,\n",
       "       3.14285714, 3.20408163, 3.26530612, 3.32653061, 3.3877551 ,\n",
       "       3.44897959, 3.51020408, 3.57142857, 3.63265306, 3.69387755,\n",
       "       3.75510204, 3.81632653, 3.87755102, 3.93877551, 4.        ])"
      ]
     },
     "execution_count": 14,
     "metadata": {},
     "output_type": "execute_result"
    }
   ],
   "source": [
    "# create linspace ndarray\n",
    "lin_array = np.linspace(1, 4)\n",
    "lin_array"
   ]
  },
  {
   "cell_type": "code",
   "execution_count": 15,
   "id": "01b6ba2e-e774-4dac-8511-7b237d1e370c",
   "metadata": {},
   "outputs": [
    {
     "data": {
      "text/plain": [
       "50"
      ]
     },
     "execution_count": 15,
     "metadata": {},
     "output_type": "execute_result"
    }
   ],
   "source": [
    "lin_array.size"
   ]
  },
  {
   "cell_type": "code",
   "execution_count": 16,
   "id": "d9e4d5b0-5f1b-45af-86f8-b7d55c1e19df",
   "metadata": {},
   "outputs": [
    {
     "data": {
      "text/plain": [
       "array([11,  9,  8,  6,  5,  3,  2])"
      ]
     },
     "execution_count": 16,
     "metadata": {},
     "output_type": "execute_result"
    }
   ],
   "source": [
    "lin_array2 = np.linspace(11, 2, 7, dtype=int)\n",
    "lin_array2"
   ]
  },
  {
   "cell_type": "code",
   "execution_count": 17,
   "id": "9172756d-8321-4983-94a9-66a9d3f53b7e",
   "metadata": {},
   "outputs": [
    {
     "data": {
      "text/plain": [
       "array([-9, -8, -7, -6, -5, -4, -3, -2, -1,  0,  1,  2,  3,  4,  5,  6,  7,\n",
       "        8,  9, 11])"
      ]
     },
     "execution_count": 17,
     "metadata": {},
     "output_type": "execute_result"
    }
   ],
   "source": [
    "lin_array3 = np.linspace(-9, 11, 20, dtype=int)\n",
    "lin_array3"
   ]
  },
  {
   "cell_type": "code",
   "execution_count": 18,
   "id": "9900282b-8cb6-49a5-b6bf-7874e3200b76",
   "metadata": {},
   "outputs": [
    {
     "data": {
      "text/plain": [
       "array([[1, 0, 0],\n",
       "       [0, 1, 0],\n",
       "       [0, 0, 1]])"
      ]
     },
     "execution_count": 18,
     "metadata": {},
     "output_type": "execute_result"
    }
   ],
   "source": [
    "# create eye ndarray\n",
    "eye_array1 = np.eye(3, dtype=int)\n",
    "eye_array1"
   ]
  },
  {
   "cell_type": "code",
   "execution_count": 19,
   "id": "83ddda97-8608-4b3c-861a-d7bf97f97eea",
   "metadata": {},
   "outputs": [
    {
     "data": {
      "text/plain": [
       "array([[1, 0, 0, 0, 0],\n",
       "       [0, 1, 0, 0, 0],\n",
       "       [0, 0, 1, 0, 0],\n",
       "       [0, 0, 0, 1, 0],\n",
       "       [0, 0, 0, 0, 1]])"
      ]
     },
     "execution_count": 19,
     "metadata": {},
     "output_type": "execute_result"
    }
   ],
   "source": [
    "eye_array2 = np.eye(5, dtype=int)\n",
    "eye_array2"
   ]
  },
  {
   "cell_type": "code",
   "execution_count": 20,
   "id": "efa541d5-02fb-4ead-bb97-7d1d8ba9f36d",
   "metadata": {},
   "outputs": [
    {
     "data": {
      "text/plain": [
       "array([[0, 1, 0, 0, 0],\n",
       "       [0, 0, 1, 0, 0],\n",
       "       [0, 0, 0, 1, 0],\n",
       "       [0, 0, 0, 0, 1]])"
      ]
     },
     "execution_count": 20,
     "metadata": {},
     "output_type": "execute_result"
    }
   ],
   "source": [
    "eye_array3 = np.eye(4, 5, 1, dtype=int)\n",
    "eye_array3"
   ]
  },
  {
   "cell_type": "code",
   "execution_count": 21,
   "id": "e363b5e2-5fef-4466-b442-f50dd8e0da06",
   "metadata": {},
   "outputs": [
    {
     "data": {
      "text/plain": [
       "array([[0, 0, 0],\n",
       "       [1, 0, 0],\n",
       "       [0, 1, 0]])"
      ]
     },
     "execution_count": 21,
     "metadata": {},
     "output_type": "execute_result"
    }
   ],
   "source": [
    "eye_array4 = np.eye(3, 3, -1, dtype=int)\n",
    "eye_array4"
   ]
  },
  {
   "cell_type": "code",
   "execution_count": 22,
   "id": "595b45de-3fe0-4142-a4c6-5be5b03c08ee",
   "metadata": {},
   "outputs": [
    {
     "data": {
      "text/plain": [
       "array([[0.00000000e+000, 1.63041663e-322, 0.00000000e+000],\n",
       "       [0.00000000e+000, 4.00766127e+175, 1.63305012e+185],\n",
       "       [4.90466174e-062, 6.50335587e-091, 4.65862924e-033]])"
      ]
     },
     "execution_count": 22,
     "metadata": {},
     "output_type": "execute_result"
    }
   ],
   "source": [
    "# create empty ndarray\n",
    "empty_array1 = np.empty((3, 3))\n",
    "empty_array1"
   ]
  },
  {
   "cell_type": "code",
   "execution_count": 23,
   "id": "721dc6fa-f618-403b-9715-ccf8bbce1f20",
   "metadata": {},
   "outputs": [
    {
     "data": {
      "text/plain": [
       "array([[                  0,                  33,                   0],\n",
       "       [                  0, 7233978562993192960, 7377801527420281144],\n",
       "       [3689623705486635565, 3257565106039239525, 4123098653678188387]])"
      ]
     },
     "execution_count": 23,
     "metadata": {},
     "output_type": "execute_result"
    }
   ],
   "source": [
    "empty_array2 = np.empty((3, 3), dtype=int)\n",
    "empty_array2"
   ]
  },
  {
   "cell_type": "code",
   "execution_count": 24,
   "id": "c86c9fc2-313a-407e-9fae-4ad0e17d9122",
   "metadata": {},
   "outputs": [
    {
     "data": {
      "text/plain": [
       "23"
      ]
     },
     "execution_count": 24,
     "metadata": {},
     "output_type": "execute_result"
    }
   ],
   "source": [
    "# numpy random number\n",
    "random_num = np.random.randint(50)\n",
    "random_num"
   ]
  },
  {
   "cell_type": "code",
   "execution_count": 25,
   "id": "98a9115b-94cf-437c-8016-fda765e991c9",
   "metadata": {},
   "outputs": [
    {
     "data": {
      "text/plain": [
       "array([[0.87195795, 0.92417172, 0.08312179],\n",
       "       [0.90704075, 0.21356127, 0.22947246],\n",
       "       [0.71951723, 0.21399446, 0.59719438],\n",
       "       [0.2780719 , 0.0730392 , 0.42938308],\n",
       "       [0.83350262, 0.02684983, 0.8546678 ],\n",
       "       [0.27243208, 0.17990169, 0.08062467]])"
      ]
     },
     "execution_count": 25,
     "metadata": {},
     "output_type": "execute_result"
    }
   ],
   "source": [
    "# create random number ndarray (0-1)\n",
    "random_array1 = np.random.rand(6, 3)\n",
    "random_array1"
   ]
  },
  {
   "cell_type": "code",
   "execution_count": 26,
   "id": "74c72d24-d7ef-4d39-8650-ed1b2361d075",
   "metadata": {},
   "outputs": [
    {
     "data": {
      "text/plain": [
       "array([[[0.85621605, 0.3386321 , 0.05296185],\n",
       "        [0.25013533, 0.48370413, 0.47315951]],\n",
       "\n",
       "       [[0.65201822, 0.6571147 , 0.699676  ],\n",
       "        [0.71017467, 0.17085933, 0.10013553]],\n",
       "\n",
       "       [[0.59511353, 0.09774577, 0.52419511],\n",
       "        [0.25846245, 0.40462996, 0.11802282]]])"
      ]
     },
     "execution_count": 26,
     "metadata": {},
     "output_type": "execute_result"
    }
   ],
   "source": [
    "random_array2 = np.random.rand(3, 2, 3)\n",
    "random_array2"
   ]
  },
  {
   "cell_type": "code",
   "execution_count": 27,
   "id": "ef7d16fb-3b37-49df-ba3a-6910297d2cd0",
   "metadata": {},
   "outputs": [
    {
     "data": {
      "text/plain": [
       "array([[[0.65201822, 0.6571147 , 0.699676  ],\n",
       "        [0.71017467, 0.17085933, 0.10013553]],\n",
       "\n",
       "       [[0.59511353, 0.09774577, 0.52419511],\n",
       "        [0.25846245, 0.40462996, 0.11802282]]])"
      ]
     },
     "execution_count": 27,
     "metadata": {},
     "output_type": "execute_result"
    }
   ],
   "source": [
    "random_array2[1:]"
   ]
  },
  {
   "cell_type": "code",
   "execution_count": 28,
   "id": "3b47b5fe-0a64-4b69-a418-a9b93cebb35e",
   "metadata": {},
   "outputs": [
    {
     "data": {
      "text/plain": [
       "array([[26, 95, 33],\n",
       "       [92, 27, 56],\n",
       "       [91, 96, 54]])"
      ]
     },
     "execution_count": 28,
     "metadata": {},
     "output_type": "execute_result"
    }
   ],
   "source": [
    "# create random randint ndarray\n",
    "randint_array1 = np.random.randint(100, size=(3, 3))\n",
    "randint_array1"
   ]
  },
  {
   "cell_type": "code",
   "execution_count": 29,
   "id": "ddb9d333-0ab1-427e-8519-84565a0fa518",
   "metadata": {},
   "outputs": [
    {
     "data": {
      "text/plain": [
       "array([[[42, 35,  5],\n",
       "        [47, 49, 11]],\n",
       "\n",
       "       [[22,  3, 15],\n",
       "        [41,  9, 44]],\n",
       "\n",
       "       [[38, 12,  6],\n",
       "        [43, 23, 27]]])"
      ]
     },
     "execution_count": 29,
     "metadata": {},
     "output_type": "execute_result"
    }
   ],
   "source": [
    "randint_array2 = np.random.randint(50, size=(3, 2, 3))\n",
    "randint_array2"
   ]
  },
  {
   "cell_type": "code",
   "execution_count": 30,
   "id": "51a1b0a2-8642-4489-9798-ad2849cc5ab0",
   "metadata": {},
   "outputs": [
    {
     "data": {
      "text/plain": [
       "array([[38, 12,  6],\n",
       "       [43, 23, 27]])"
      ]
     },
     "execution_count": 30,
     "metadata": {},
     "output_type": "execute_result"
    }
   ],
   "source": [
    "randint_array2[2]"
   ]
  },
  {
   "cell_type": "code",
   "execution_count": 31,
   "id": "b88bcecc-c29c-473b-9849-64b35b69ef89",
   "metadata": {},
   "outputs": [
    {
     "data": {
      "text/plain": [
       "array([[1, 1, 1, 1],\n",
       "       [3, 1, 3, 3],\n",
       "       [1, 2, 3, 2],\n",
       "       [2, 2, 3, 2]])"
      ]
     },
     "execution_count": 31,
     "metadata": {},
     "output_type": "execute_result"
    }
   ],
   "source": [
    "# create choice ndarray\n",
    "choice_array1 = np.random.choice([1, 2, 3], size=(4, 4))\n",
    "choice_array1"
   ]
  },
  {
   "cell_type": "code",
   "execution_count": 32,
   "id": "3c501659-3ad0-44cb-ad09-a1d1814e9c1e",
   "metadata": {},
   "outputs": [],
   "source": [
    "# Import Random From Numpy\n",
    "from numpy import random as rd"
   ]
  },
  {
   "cell_type": "code",
   "execution_count": 33,
   "id": "cd62c8a6-2edc-4a6c-b3d5-1dfc01e22330",
   "metadata": {},
   "outputs": [
    {
     "data": {
      "text/plain": [
       "array([0.8773164 , 0.40909127, 0.47745715, 0.86508473, 0.52255271,\n",
       "       0.59460222, 0.98573237, 0.51281904, 0.14571755, 0.1289676 ])"
      ]
     },
     "execution_count": 33,
     "metadata": {},
     "output_type": "execute_result"
    }
   ],
   "source": [
    "random = rd.rand(10)\n",
    "random"
   ]
  },
  {
   "cell_type": "code",
   "execution_count": 34,
   "id": "a46baf37-a8d0-4e9e-bf59-941c06644322",
   "metadata": {},
   "outputs": [
    {
     "data": {
      "text/plain": [
       "array([[0.8773164 , 0.1289676 , 0.51281904, 0.98573237],\n",
       "       [0.51281904, 0.40909127, 0.52255271, 0.1289676 ],\n",
       "       [0.52255271, 0.59460222, 0.14571755, 0.14571755]])"
      ]
     },
     "execution_count": 34,
     "metadata": {},
     "output_type": "execute_result"
    }
   ],
   "source": [
    "choice_array2 = rd.choice(random, size=(3, 4))\n",
    "choice_array2"
   ]
  },
  {
   "cell_type": "code",
   "execution_count": 35,
   "id": "41226968-80dd-4520-a2a4-e27442356d0a",
   "metadata": {},
   "outputs": [
    {
     "data": {
      "text/plain": [
       "array([[3, 4, 4, 3],\n",
       "       [1, 3, 2, 2],\n",
       "       [4, 3, 2, 3],\n",
       "       [5, 5, 5, 2]])"
      ]
     },
     "execution_count": 35,
     "metadata": {},
     "output_type": "execute_result"
    }
   ],
   "source": [
    "# Assign probability to random and create choice array\n",
    "choice_array3 = rd.choice([1, 2, 3, 4, 5], p=[0.1, 0.4, 0.2, 0.1, 0.2], size=(4, 4))\n",
    "choice_array3 # 2 is most probabilities"
   ]
  },
  {
   "cell_type": "code",
   "execution_count": 36,
   "id": "8b628c5d-e6b5-49c1-99c8-2fa182b33fed",
   "metadata": {},
   "outputs": [
    {
     "data": {
      "text/plain": [
       "array([0, 1, 2, 3, 4, 5, 6, 7, 8, 9])"
      ]
     },
     "execution_count": 36,
     "metadata": {},
     "output_type": "execute_result"
    }
   ],
   "source": [
    "# Use shuffle, permutation\n",
    "array1 = np.arange(10)\n",
    "array1"
   ]
  },
  {
   "cell_type": "code",
   "execution_count": 37,
   "id": "170a8aa7-6563-4ecb-99ca-52ecdc0a2cab",
   "metadata": {},
   "outputs": [],
   "source": [
    "rd.shuffle(array1)"
   ]
  },
  {
   "cell_type": "code",
   "execution_count": 38,
   "id": "0976f3e3-c225-47f9-82d8-e68cd839e433",
   "metadata": {},
   "outputs": [
    {
     "data": {
      "text/plain": [
       "array([5, 3, 9, 8, 6, 0, 7, 4, 2, 1])"
      ]
     },
     "execution_count": 38,
     "metadata": {},
     "output_type": "execute_result"
    }
   ],
   "source": [
    "array1"
   ]
  },
  {
   "cell_type": "code",
   "execution_count": 39,
   "id": "6d275169-b114-4c12-be8f-dce727d6a925",
   "metadata": {},
   "outputs": [
    {
     "data": {
      "text/plain": [
       "array([ 0,  1,  2,  3,  4,  5,  6,  7,  8,  9, 10, 11, 12, 13, 14])"
      ]
     },
     "execution_count": 39,
     "metadata": {},
     "output_type": "execute_result"
    }
   ],
   "source": [
    "array2 = np.arange(15)\n",
    "array2"
   ]
  },
  {
   "cell_type": "code",
   "execution_count": 40,
   "id": "136abc0c-3358-4544-8dee-20aa0fdfbe20",
   "metadata": {},
   "outputs": [
    {
     "data": {
      "text/plain": [
       "array([12,  2, 11,  1,  9,  5,  3,  4,  8, 10, 13,  7,  6,  0, 14])"
      ]
     },
     "execution_count": 40,
     "metadata": {},
     "output_type": "execute_result"
    }
   ],
   "source": [
    "array3 = rd.permutation(array2)\n",
    "array3"
   ]
  },
  {
   "cell_type": "code",
   "execution_count": 41,
   "id": "255f510e-8d54-49c9-9cd8-5cbab0e58cfd",
   "metadata": {},
   "outputs": [
    {
     "data": {
      "text/plain": [
       "array([ 0,  1,  2,  3,  4,  5,  6,  7,  8,  9, 10, 11, 12, 13, 14])"
      ]
     },
     "execution_count": 41,
     "metadata": {},
     "output_type": "execute_result"
    }
   ],
   "source": [
    "array2"
   ]
  },
  {
   "cell_type": "code",
   "execution_count": null,
   "id": "30612c9e-e1dc-46d4-aba6-a1057ddb2f41",
   "metadata": {},
   "outputs": [],
   "source": []
  }
 ],
 "metadata": {
  "kernelspec": {
   "display_name": "Python 3 (ipykernel)",
   "language": "python",
   "name": "python3"
  },
  "language_info": {
   "codemirror_mode": {
    "name": "ipython",
    "version": 3
   },
   "file_extension": ".py",
   "mimetype": "text/x-python",
   "name": "python",
   "nbconvert_exporter": "python",
   "pygments_lexer": "ipython3",
   "version": "3.9.10"
  }
 },
 "nbformat": 4,
 "nbformat_minor": 5
}
